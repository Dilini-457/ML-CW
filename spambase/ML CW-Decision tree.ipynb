{
 "cells": [
  {
   "cell_type": "code",
   "execution_count": 1,
   "id": "5e28b8b0",
   "metadata": {},
   "outputs": [],
   "source": [
    "#import necessary libraries\n",
    "\n",
    "import pandas as pd\n",
    "import matplotlib.pyplot as plt\n",
    "from sklearn.model_selection import train_test_split\n",
    "from sklearn.tree import DecisionTreeClassifier\n",
    "from sklearn.preprocessing import StandardScaler\n",
    "from sklearn.metrics import accuracy_score, precision_score, recall_score, f1_score, confusion_matrix\n",
    "import seaborn as sns"
   ]
  },
  {
   "cell_type": "code",
   "execution_count": 2,
   "id": "a39132e0",
   "metadata": {},
   "outputs": [],
   "source": [
    "#Load the dataset\n",
    "dataset = pd.read_csv('spambase.data')"
   ]
  },
  {
   "cell_type": "code",
   "execution_count": 3,
   "id": "f3038c62",
   "metadata": {},
   "outputs": [
    {
     "data": {
      "text/plain": "(4600, 58)"
     },
     "execution_count": 3,
     "metadata": {},
     "output_type": "execute_result"
    }
   ],
   "source": [
    "#before removing duplicates\n",
    "dataset.shape"
   ]
  },
  {
   "cell_type": "code",
   "execution_count": 4,
   "id": "5ea91bff",
   "metadata": {},
   "outputs": [],
   "source": [
    "#data cleaning\n",
    "# Remove duplicate rows\n",
    "dataset.drop_duplicates(inplace=True)"
   ]
  },
  {
   "cell_type": "code",
   "execution_count": 5,
   "id": "19506d01",
   "metadata": {},
   "outputs": [
    {
     "data": {
      "text/plain": "(4209, 58)"
     },
     "execution_count": 5,
     "metadata": {},
     "output_type": "execute_result"
    }
   ],
   "source": [
    "#after removing duplicates\n",
    "dataset.shape"
   ]
  },
  {
   "cell_type": "code",
   "execution_count": 6,
   "id": "f23fbe7c",
   "metadata": {},
   "outputs": [],
   "source": [
    "# Remove missing values\n",
    "dataset.dropna(inplace=True)"
   ]
  },
  {
   "cell_type": "code",
   "execution_count": 7,
   "id": "1c7a1179",
   "metadata": {},
   "outputs": [
    {
     "data": {
      "text/plain": "(4209, 58)"
     },
     "execution_count": 7,
     "metadata": {},
     "output_type": "execute_result"
    }
   ],
   "source": [
    "#after removing missing values\n",
    "dataset.shape"
   ]
  },
  {
   "cell_type": "code",
   "execution_count": 8,
   "id": "7da6bff6",
   "metadata": {},
   "outputs": [
    {
     "name": "stdout",
     "output_type": "stream",
     "text": [
      "<class 'pandas.core.frame.DataFrame'>\n",
      "Int64Index: 4209 entries, 0 to 4599\n",
      "Data columns (total 58 columns):\n",
      " #   Column  Non-Null Count  Dtype  \n",
      "---  ------  --------------  -----  \n",
      " 0   0       4209 non-null   float64\n",
      " 1   0.64    4209 non-null   float64\n",
      " 2   0.64.1  4209 non-null   float64\n",
      " 3   0.1     4209 non-null   float64\n",
      " 4   0.32    4209 non-null   float64\n",
      " 5   0.2     4209 non-null   float64\n",
      " 6   0.3     4209 non-null   float64\n",
      " 7   0.4     4209 non-null   float64\n",
      " 8   0.5     4209 non-null   float64\n",
      " 9   0.6     4209 non-null   float64\n",
      " 10  0.7     4209 non-null   float64\n",
      " 11  0.64.2  4209 non-null   float64\n",
      " 12  0.8     4209 non-null   float64\n",
      " 13  0.9     4209 non-null   float64\n",
      " 14  0.10    4209 non-null   float64\n",
      " 15  0.32.1  4209 non-null   float64\n",
      " 16  0.11    4209 non-null   float64\n",
      " 17  1.29    4209 non-null   float64\n",
      " 18  1.93    4209 non-null   float64\n",
      " 19  0.12    4209 non-null   float64\n",
      " 20  0.96    4209 non-null   float64\n",
      " 21  0.13    4209 non-null   float64\n",
      " 22  0.14    4209 non-null   float64\n",
      " 23  0.15    4209 non-null   float64\n",
      " 24  0.16    4209 non-null   float64\n",
      " 25  0.17    4209 non-null   float64\n",
      " 26  0.18    4209 non-null   float64\n",
      " 27  0.19    4209 non-null   float64\n",
      " 28  0.20    4209 non-null   float64\n",
      " 29  0.21    4209 non-null   float64\n",
      " 30  0.22    4209 non-null   float64\n",
      " 31  0.23    4209 non-null   float64\n",
      " 32  0.24    4209 non-null   float64\n",
      " 33  0.25    4209 non-null   float64\n",
      " 34  0.26    4209 non-null   float64\n",
      " 35  0.27    4209 non-null   float64\n",
      " 36  0.28    4209 non-null   float64\n",
      " 37  0.29    4209 non-null   float64\n",
      " 38  0.30    4209 non-null   float64\n",
      " 39  0.31    4209 non-null   float64\n",
      " 40  0.33    4209 non-null   float64\n",
      " 41  0.34    4209 non-null   float64\n",
      " 42  0.35    4209 non-null   float64\n",
      " 43  0.36    4209 non-null   float64\n",
      " 44  0.37    4209 non-null   float64\n",
      " 45  0.38    4209 non-null   float64\n",
      " 46  0.39    4209 non-null   float64\n",
      " 47  0.40    4209 non-null   float64\n",
      " 48  0.41    4209 non-null   float64\n",
      " 49  0.42    4209 non-null   float64\n",
      " 50  0.43    4209 non-null   float64\n",
      " 51  0.778   4209 non-null   float64\n",
      " 52  0.44    4209 non-null   float64\n",
      " 53  0.45    4209 non-null   float64\n",
      " 54  3.756   4209 non-null   float64\n",
      " 55  61      4209 non-null   int64  \n",
      " 56  278     4209 non-null   int64  \n",
      " 57  1       4209 non-null   int64  \n",
      "dtypes: float64(55), int64(3)\n",
      "memory usage: 1.9 MB\n"
     ]
    }
   ],
   "source": [
    "#check data types\n",
    "dataset.info()"
   ]
  },
  {
   "cell_type": "code",
   "execution_count": 9,
   "id": "3f1c1bee",
   "metadata": {},
   "outputs": [],
   "source": [
    "# Save cleaned dataset\n",
    "dataset.to_csv('cleaned_dataset.csv', index=False)"
   ]
  },
  {
   "cell_type": "code",
   "execution_count": 10,
   "id": "29043c50",
   "metadata": {},
   "outputs": [
    {
     "data": {
      "text/plain": "      0  0.64  0.64.1  0.1  0.32   0.2   0.3   0.4   0.5   0.6  ...  0.41  \\\n0  0.21  0.28    0.50  0.0  0.14  0.28  0.21  0.07  0.00  0.94  ...  0.00   \n1  0.06  0.00    0.71  0.0  1.23  0.19  0.19  0.12  0.64  0.25  ...  0.01   \n2  0.00  0.00    0.00  0.0  0.63  0.00  0.31  0.63  0.31  0.63  ...  0.00   \n3  0.00  0.00    0.00  0.0  0.63  0.00  0.31  0.63  0.31  0.63  ...  0.00   \n4  0.00  0.00    0.00  0.0  1.85  0.00  0.00  1.85  0.00  0.00  ...  0.00   \n\n    0.42  0.43  0.778   0.44   0.45  3.756   61   278  1  \n0  0.132   0.0  0.372  0.180  0.048  5.114  101  1028  1  \n1  0.143   0.0  0.276  0.184  0.010  9.821  485  2259  1  \n2  0.137   0.0  0.137  0.000  0.000  3.537   40   191  1  \n3  0.135   0.0  0.135  0.000  0.000  3.537   40   191  1  \n4  0.223   0.0  0.000  0.000  0.000  3.000   15    54  1  \n\n[5 rows x 58 columns]",
      "text/html": "<div>\n<style scoped>\n    .dataframe tbody tr th:only-of-type {\n        vertical-align: middle;\n    }\n\n    .dataframe tbody tr th {\n        vertical-align: top;\n    }\n\n    .dataframe thead th {\n        text-align: right;\n    }\n</style>\n<table border=\"1\" class=\"dataframe\">\n  <thead>\n    <tr style=\"text-align: right;\">\n      <th></th>\n      <th>0</th>\n      <th>0.64</th>\n      <th>0.64.1</th>\n      <th>0.1</th>\n      <th>0.32</th>\n      <th>0.2</th>\n      <th>0.3</th>\n      <th>0.4</th>\n      <th>0.5</th>\n      <th>0.6</th>\n      <th>...</th>\n      <th>0.41</th>\n      <th>0.42</th>\n      <th>0.43</th>\n      <th>0.778</th>\n      <th>0.44</th>\n      <th>0.45</th>\n      <th>3.756</th>\n      <th>61</th>\n      <th>278</th>\n      <th>1</th>\n    </tr>\n  </thead>\n  <tbody>\n    <tr>\n      <th>0</th>\n      <td>0.21</td>\n      <td>0.28</td>\n      <td>0.50</td>\n      <td>0.0</td>\n      <td>0.14</td>\n      <td>0.28</td>\n      <td>0.21</td>\n      <td>0.07</td>\n      <td>0.00</td>\n      <td>0.94</td>\n      <td>...</td>\n      <td>0.00</td>\n      <td>0.132</td>\n      <td>0.0</td>\n      <td>0.372</td>\n      <td>0.180</td>\n      <td>0.048</td>\n      <td>5.114</td>\n      <td>101</td>\n      <td>1028</td>\n      <td>1</td>\n    </tr>\n    <tr>\n      <th>1</th>\n      <td>0.06</td>\n      <td>0.00</td>\n      <td>0.71</td>\n      <td>0.0</td>\n      <td>1.23</td>\n      <td>0.19</td>\n      <td>0.19</td>\n      <td>0.12</td>\n      <td>0.64</td>\n      <td>0.25</td>\n      <td>...</td>\n      <td>0.01</td>\n      <td>0.143</td>\n      <td>0.0</td>\n      <td>0.276</td>\n      <td>0.184</td>\n      <td>0.010</td>\n      <td>9.821</td>\n      <td>485</td>\n      <td>2259</td>\n      <td>1</td>\n    </tr>\n    <tr>\n      <th>2</th>\n      <td>0.00</td>\n      <td>0.00</td>\n      <td>0.00</td>\n      <td>0.0</td>\n      <td>0.63</td>\n      <td>0.00</td>\n      <td>0.31</td>\n      <td>0.63</td>\n      <td>0.31</td>\n      <td>0.63</td>\n      <td>...</td>\n      <td>0.00</td>\n      <td>0.137</td>\n      <td>0.0</td>\n      <td>0.137</td>\n      <td>0.000</td>\n      <td>0.000</td>\n      <td>3.537</td>\n      <td>40</td>\n      <td>191</td>\n      <td>1</td>\n    </tr>\n    <tr>\n      <th>3</th>\n      <td>0.00</td>\n      <td>0.00</td>\n      <td>0.00</td>\n      <td>0.0</td>\n      <td>0.63</td>\n      <td>0.00</td>\n      <td>0.31</td>\n      <td>0.63</td>\n      <td>0.31</td>\n      <td>0.63</td>\n      <td>...</td>\n      <td>0.00</td>\n      <td>0.135</td>\n      <td>0.0</td>\n      <td>0.135</td>\n      <td>0.000</td>\n      <td>0.000</td>\n      <td>3.537</td>\n      <td>40</td>\n      <td>191</td>\n      <td>1</td>\n    </tr>\n    <tr>\n      <th>4</th>\n      <td>0.00</td>\n      <td>0.00</td>\n      <td>0.00</td>\n      <td>0.0</td>\n      <td>1.85</td>\n      <td>0.00</td>\n      <td>0.00</td>\n      <td>1.85</td>\n      <td>0.00</td>\n      <td>0.00</td>\n      <td>...</td>\n      <td>0.00</td>\n      <td>0.223</td>\n      <td>0.0</td>\n      <td>0.000</td>\n      <td>0.000</td>\n      <td>0.000</td>\n      <td>3.000</td>\n      <td>15</td>\n      <td>54</td>\n      <td>1</td>\n    </tr>\n  </tbody>\n</table>\n<p>5 rows × 58 columns</p>\n</div>"
     },
     "execution_count": 10,
     "metadata": {},
     "output_type": "execute_result"
    }
   ],
   "source": [
    "# print first five data points \n",
    "dataset.head()\n"
   ]
  },
  {
   "cell_type": "code",
   "execution_count": 11,
   "id": "9c3d784c",
   "metadata": {},
   "outputs": [
    {
     "data": {
      "text/plain": "         0  0.64  0.64.1  0.1  0.32   0.2  0.3  0.4  0.5  0.6  ...   0.41  \\\n4595  0.31   0.0    0.62  0.0  0.00  0.31  0.0  0.0  0.0  0.0  ...  0.000   \n4596  0.00   0.0    0.00  0.0  0.00  0.00  0.0  0.0  0.0  0.0  ...  0.000   \n4597  0.30   0.0    0.30  0.0  0.00  0.00  0.0  0.0  0.0  0.0  ...  0.102   \n4598  0.96   0.0    0.00  0.0  0.32  0.00  0.0  0.0  0.0  0.0  ...  0.000   \n4599  0.00   0.0    0.65  0.0  0.00  0.00  0.0  0.0  0.0  0.0  ...  0.000   \n\n       0.42  0.43  0.778  0.44  0.45  3.756  61  278  1  \n4595  0.232   0.0  0.000   0.0   0.0  1.142   3   88  0  \n4596  0.000   0.0  0.353   0.0   0.0  1.555   4   14  0  \n4597  0.718   0.0  0.000   0.0   0.0  1.404   6  118  0  \n4598  0.057   0.0  0.000   0.0   0.0  1.147   5   78  0  \n4599  0.000   0.0  0.125   0.0   0.0  1.250   5   40  0  \n\n[5 rows x 58 columns]",
      "text/html": "<div>\n<style scoped>\n    .dataframe tbody tr th:only-of-type {\n        vertical-align: middle;\n    }\n\n    .dataframe tbody tr th {\n        vertical-align: top;\n    }\n\n    .dataframe thead th {\n        text-align: right;\n    }\n</style>\n<table border=\"1\" class=\"dataframe\">\n  <thead>\n    <tr style=\"text-align: right;\">\n      <th></th>\n      <th>0</th>\n      <th>0.64</th>\n      <th>0.64.1</th>\n      <th>0.1</th>\n      <th>0.32</th>\n      <th>0.2</th>\n      <th>0.3</th>\n      <th>0.4</th>\n      <th>0.5</th>\n      <th>0.6</th>\n      <th>...</th>\n      <th>0.41</th>\n      <th>0.42</th>\n      <th>0.43</th>\n      <th>0.778</th>\n      <th>0.44</th>\n      <th>0.45</th>\n      <th>3.756</th>\n      <th>61</th>\n      <th>278</th>\n      <th>1</th>\n    </tr>\n  </thead>\n  <tbody>\n    <tr>\n      <th>4595</th>\n      <td>0.31</td>\n      <td>0.0</td>\n      <td>0.62</td>\n      <td>0.0</td>\n      <td>0.00</td>\n      <td>0.31</td>\n      <td>0.0</td>\n      <td>0.0</td>\n      <td>0.0</td>\n      <td>0.0</td>\n      <td>...</td>\n      <td>0.000</td>\n      <td>0.232</td>\n      <td>0.0</td>\n      <td>0.000</td>\n      <td>0.0</td>\n      <td>0.0</td>\n      <td>1.142</td>\n      <td>3</td>\n      <td>88</td>\n      <td>0</td>\n    </tr>\n    <tr>\n      <th>4596</th>\n      <td>0.00</td>\n      <td>0.0</td>\n      <td>0.00</td>\n      <td>0.0</td>\n      <td>0.00</td>\n      <td>0.00</td>\n      <td>0.0</td>\n      <td>0.0</td>\n      <td>0.0</td>\n      <td>0.0</td>\n      <td>...</td>\n      <td>0.000</td>\n      <td>0.000</td>\n      <td>0.0</td>\n      <td>0.353</td>\n      <td>0.0</td>\n      <td>0.0</td>\n      <td>1.555</td>\n      <td>4</td>\n      <td>14</td>\n      <td>0</td>\n    </tr>\n    <tr>\n      <th>4597</th>\n      <td>0.30</td>\n      <td>0.0</td>\n      <td>0.30</td>\n      <td>0.0</td>\n      <td>0.00</td>\n      <td>0.00</td>\n      <td>0.0</td>\n      <td>0.0</td>\n      <td>0.0</td>\n      <td>0.0</td>\n      <td>...</td>\n      <td>0.102</td>\n      <td>0.718</td>\n      <td>0.0</td>\n      <td>0.000</td>\n      <td>0.0</td>\n      <td>0.0</td>\n      <td>1.404</td>\n      <td>6</td>\n      <td>118</td>\n      <td>0</td>\n    </tr>\n    <tr>\n      <th>4598</th>\n      <td>0.96</td>\n      <td>0.0</td>\n      <td>0.00</td>\n      <td>0.0</td>\n      <td>0.32</td>\n      <td>0.00</td>\n      <td>0.0</td>\n      <td>0.0</td>\n      <td>0.0</td>\n      <td>0.0</td>\n      <td>...</td>\n      <td>0.000</td>\n      <td>0.057</td>\n      <td>0.0</td>\n      <td>0.000</td>\n      <td>0.0</td>\n      <td>0.0</td>\n      <td>1.147</td>\n      <td>5</td>\n      <td>78</td>\n      <td>0</td>\n    </tr>\n    <tr>\n      <th>4599</th>\n      <td>0.00</td>\n      <td>0.0</td>\n      <td>0.65</td>\n      <td>0.0</td>\n      <td>0.00</td>\n      <td>0.00</td>\n      <td>0.0</td>\n      <td>0.0</td>\n      <td>0.0</td>\n      <td>0.0</td>\n      <td>...</td>\n      <td>0.000</td>\n      <td>0.000</td>\n      <td>0.0</td>\n      <td>0.125</td>\n      <td>0.0</td>\n      <td>0.0</td>\n      <td>1.250</td>\n      <td>5</td>\n      <td>40</td>\n      <td>0</td>\n    </tr>\n  </tbody>\n</table>\n<p>5 rows × 58 columns</p>\n</div>"
     },
     "execution_count": 11,
     "metadata": {},
     "output_type": "execute_result"
    }
   ],
   "source": [
    "#print last five data points\n",
    "dataset.tail()"
   ]
  },
  {
   "cell_type": "code",
   "execution_count": 12,
   "id": "786ea5cb",
   "metadata": {},
   "outputs": [
    {
     "name": "stdout",
     "output_type": "stream",
     "text": [
      "(4209, 58)\n"
     ]
    }
   ],
   "source": [
    "print(dataset.shape)"
   ]
  },
  {
   "cell_type": "code",
   "execution_count": 13,
   "id": "e38565fd",
   "metadata": {},
   "outputs": [
    {
     "data": {
      "text/plain": "                 0         0.64       0.64.1          0.1         0.32  \\\ncount  4209.000000  4209.000000  4209.000000  4209.000000  4209.000000   \nmean      0.104391     0.112530     0.291390     0.063093     0.325322   \nstd       0.300036     0.454241     0.515752     1.352647     0.687887   \nmin       0.000000     0.000000     0.000000     0.000000     0.000000   \n25%       0.000000     0.000000     0.000000     0.000000     0.000000   \n50%       0.000000     0.000000     0.000000     0.000000     0.000000   \n75%       0.000000     0.000000     0.440000     0.000000     0.410000   \nmax       4.540000    14.280000     5.100000    42.810000    10.000000   \n\n               0.2          0.3          0.4          0.5          0.6  ...  \\\ncount  4209.000000  4209.000000  4209.000000  4209.000000  4209.000000  ...   \nmean      0.096679     0.117503     0.108026     0.091882     0.248479  ...   \nstd       0.276059     0.397327     0.410328     0.282174     0.656705  ...   \nmin       0.000000     0.000000     0.000000     0.000000     0.000000  ...   \n25%       0.000000     0.000000     0.000000     0.000000     0.000000  ...   \n50%       0.000000     0.000000     0.000000     0.000000     0.000000  ...   \n75%       0.000000     0.000000     0.000000     0.000000     0.190000  ...   \nmax       5.880000     7.270000    11.110000     5.260000    18.180000  ...   \n\n              0.41         0.42         0.43        0.778         0.44  \\\ncount  4209.000000  4209.000000  4209.000000  4209.000000  4209.000000   \nmean      0.040413     0.144082     0.017380     0.281018     0.076075   \nstd       0.252562     0.274280     0.105743     0.843387     0.239734   \nmin       0.000000     0.000000     0.000000     0.000000     0.000000   \n25%       0.000000     0.000000     0.000000     0.000000     0.000000   \n50%       0.000000     0.073000     0.000000     0.016000     0.000000   \n75%       0.000000     0.194000     0.000000     0.331000     0.053000   \nmax       4.385000     9.752000     4.081000    32.478000     6.003000   \n\n              0.45        3.756           61          278            1  \ncount  4209.000000  4209.000000  4209.000000   4209.00000  4209.000000  \nmean      0.045809     5.384282    52.137800    291.18508     0.398670  \nstd       0.435976    33.151287   199.605834    618.72831     0.489683  \nmin       0.000000     1.000000     1.000000      1.00000     0.000000  \n25%       0.000000     1.627000     7.000000     40.00000     0.000000  \n50%       0.000000     2.297000    15.000000    101.00000     0.000000  \n75%       0.000000     3.706000    44.000000    273.00000     1.000000  \nmax      19.829000  1102.500000  9989.000000  15841.00000     1.000000  \n\n[8 rows x 58 columns]",
      "text/html": "<div>\n<style scoped>\n    .dataframe tbody tr th:only-of-type {\n        vertical-align: middle;\n    }\n\n    .dataframe tbody tr th {\n        vertical-align: top;\n    }\n\n    .dataframe thead th {\n        text-align: right;\n    }\n</style>\n<table border=\"1\" class=\"dataframe\">\n  <thead>\n    <tr style=\"text-align: right;\">\n      <th></th>\n      <th>0</th>\n      <th>0.64</th>\n      <th>0.64.1</th>\n      <th>0.1</th>\n      <th>0.32</th>\n      <th>0.2</th>\n      <th>0.3</th>\n      <th>0.4</th>\n      <th>0.5</th>\n      <th>0.6</th>\n      <th>...</th>\n      <th>0.41</th>\n      <th>0.42</th>\n      <th>0.43</th>\n      <th>0.778</th>\n      <th>0.44</th>\n      <th>0.45</th>\n      <th>3.756</th>\n      <th>61</th>\n      <th>278</th>\n      <th>1</th>\n    </tr>\n  </thead>\n  <tbody>\n    <tr>\n      <th>count</th>\n      <td>4209.000000</td>\n      <td>4209.000000</td>\n      <td>4209.000000</td>\n      <td>4209.000000</td>\n      <td>4209.000000</td>\n      <td>4209.000000</td>\n      <td>4209.000000</td>\n      <td>4209.000000</td>\n      <td>4209.000000</td>\n      <td>4209.000000</td>\n      <td>...</td>\n      <td>4209.000000</td>\n      <td>4209.000000</td>\n      <td>4209.000000</td>\n      <td>4209.000000</td>\n      <td>4209.000000</td>\n      <td>4209.000000</td>\n      <td>4209.000000</td>\n      <td>4209.000000</td>\n      <td>4209.00000</td>\n      <td>4209.000000</td>\n    </tr>\n    <tr>\n      <th>mean</th>\n      <td>0.104391</td>\n      <td>0.112530</td>\n      <td>0.291390</td>\n      <td>0.063093</td>\n      <td>0.325322</td>\n      <td>0.096679</td>\n      <td>0.117503</td>\n      <td>0.108026</td>\n      <td>0.091882</td>\n      <td>0.248479</td>\n      <td>...</td>\n      <td>0.040413</td>\n      <td>0.144082</td>\n      <td>0.017380</td>\n      <td>0.281018</td>\n      <td>0.076075</td>\n      <td>0.045809</td>\n      <td>5.384282</td>\n      <td>52.137800</td>\n      <td>291.18508</td>\n      <td>0.398670</td>\n    </tr>\n    <tr>\n      <th>std</th>\n      <td>0.300036</td>\n      <td>0.454241</td>\n      <td>0.515752</td>\n      <td>1.352647</td>\n      <td>0.687887</td>\n      <td>0.276059</td>\n      <td>0.397327</td>\n      <td>0.410328</td>\n      <td>0.282174</td>\n      <td>0.656705</td>\n      <td>...</td>\n      <td>0.252562</td>\n      <td>0.274280</td>\n      <td>0.105743</td>\n      <td>0.843387</td>\n      <td>0.239734</td>\n      <td>0.435976</td>\n      <td>33.151287</td>\n      <td>199.605834</td>\n      <td>618.72831</td>\n      <td>0.489683</td>\n    </tr>\n    <tr>\n      <th>min</th>\n      <td>0.000000</td>\n      <td>0.000000</td>\n      <td>0.000000</td>\n      <td>0.000000</td>\n      <td>0.000000</td>\n      <td>0.000000</td>\n      <td>0.000000</td>\n      <td>0.000000</td>\n      <td>0.000000</td>\n      <td>0.000000</td>\n      <td>...</td>\n      <td>0.000000</td>\n      <td>0.000000</td>\n      <td>0.000000</td>\n      <td>0.000000</td>\n      <td>0.000000</td>\n      <td>0.000000</td>\n      <td>1.000000</td>\n      <td>1.000000</td>\n      <td>1.00000</td>\n      <td>0.000000</td>\n    </tr>\n    <tr>\n      <th>25%</th>\n      <td>0.000000</td>\n      <td>0.000000</td>\n      <td>0.000000</td>\n      <td>0.000000</td>\n      <td>0.000000</td>\n      <td>0.000000</td>\n      <td>0.000000</td>\n      <td>0.000000</td>\n      <td>0.000000</td>\n      <td>0.000000</td>\n      <td>...</td>\n      <td>0.000000</td>\n      <td>0.000000</td>\n      <td>0.000000</td>\n      <td>0.000000</td>\n      <td>0.000000</td>\n      <td>0.000000</td>\n      <td>1.627000</td>\n      <td>7.000000</td>\n      <td>40.00000</td>\n      <td>0.000000</td>\n    </tr>\n    <tr>\n      <th>50%</th>\n      <td>0.000000</td>\n      <td>0.000000</td>\n      <td>0.000000</td>\n      <td>0.000000</td>\n      <td>0.000000</td>\n      <td>0.000000</td>\n      <td>0.000000</td>\n      <td>0.000000</td>\n      <td>0.000000</td>\n      <td>0.000000</td>\n      <td>...</td>\n      <td>0.000000</td>\n      <td>0.073000</td>\n      <td>0.000000</td>\n      <td>0.016000</td>\n      <td>0.000000</td>\n      <td>0.000000</td>\n      <td>2.297000</td>\n      <td>15.000000</td>\n      <td>101.00000</td>\n      <td>0.000000</td>\n    </tr>\n    <tr>\n      <th>75%</th>\n      <td>0.000000</td>\n      <td>0.000000</td>\n      <td>0.440000</td>\n      <td>0.000000</td>\n      <td>0.410000</td>\n      <td>0.000000</td>\n      <td>0.000000</td>\n      <td>0.000000</td>\n      <td>0.000000</td>\n      <td>0.190000</td>\n      <td>...</td>\n      <td>0.000000</td>\n      <td>0.194000</td>\n      <td>0.000000</td>\n      <td>0.331000</td>\n      <td>0.053000</td>\n      <td>0.000000</td>\n      <td>3.706000</td>\n      <td>44.000000</td>\n      <td>273.00000</td>\n      <td>1.000000</td>\n    </tr>\n    <tr>\n      <th>max</th>\n      <td>4.540000</td>\n      <td>14.280000</td>\n      <td>5.100000</td>\n      <td>42.810000</td>\n      <td>10.000000</td>\n      <td>5.880000</td>\n      <td>7.270000</td>\n      <td>11.110000</td>\n      <td>5.260000</td>\n      <td>18.180000</td>\n      <td>...</td>\n      <td>4.385000</td>\n      <td>9.752000</td>\n      <td>4.081000</td>\n      <td>32.478000</td>\n      <td>6.003000</td>\n      <td>19.829000</td>\n      <td>1102.500000</td>\n      <td>9989.000000</td>\n      <td>15841.00000</td>\n      <td>1.000000</td>\n    </tr>\n  </tbody>\n</table>\n<p>8 rows × 58 columns</p>\n</div>"
     },
     "execution_count": 13,
     "metadata": {},
     "output_type": "execute_result"
    }
   ],
   "source": [
    "#dataset['57'].value_count()\n",
    "dataset.describe()"
   ]
  },
  {
   "cell_type": "code",
   "execution_count": 14,
   "id": "e43edb21",
   "metadata": {},
   "outputs": [
    {
     "data": {
      "text/plain": "      0  0.64  0.64.1  0.1  0.32   0.2   0.3   0.4   0.5   0.6  ...  0.40  \\\n0  0.21  0.28    0.50  0.0  0.14  0.28  0.21  0.07  0.00  0.94  ...   0.0   \n1  0.06  0.00    0.71  0.0  1.23  0.19  0.19  0.12  0.64  0.25  ...   0.0   \n2  0.00  0.00    0.00  0.0  0.63  0.00  0.31  0.63  0.31  0.63  ...   0.0   \n3  0.00  0.00    0.00  0.0  0.63  0.00  0.31  0.63  0.31  0.63  ...   0.0   \n4  0.00  0.00    0.00  0.0  1.85  0.00  0.00  1.85  0.00  0.00  ...   0.0   \n\n   0.41   0.42  0.43  0.778   0.44   0.45  3.756   61   278  \n0  0.00  0.132   0.0  0.372  0.180  0.048  5.114  101  1028  \n1  0.01  0.143   0.0  0.276  0.184  0.010  9.821  485  2259  \n2  0.00  0.137   0.0  0.137  0.000  0.000  3.537   40   191  \n3  0.00  0.135   0.0  0.135  0.000  0.000  3.537   40   191  \n4  0.00  0.223   0.0  0.000  0.000  0.000  3.000   15    54  \n\n[5 rows x 57 columns]",
      "text/html": "<div>\n<style scoped>\n    .dataframe tbody tr th:only-of-type {\n        vertical-align: middle;\n    }\n\n    .dataframe tbody tr th {\n        vertical-align: top;\n    }\n\n    .dataframe thead th {\n        text-align: right;\n    }\n</style>\n<table border=\"1\" class=\"dataframe\">\n  <thead>\n    <tr style=\"text-align: right;\">\n      <th></th>\n      <th>0</th>\n      <th>0.64</th>\n      <th>0.64.1</th>\n      <th>0.1</th>\n      <th>0.32</th>\n      <th>0.2</th>\n      <th>0.3</th>\n      <th>0.4</th>\n      <th>0.5</th>\n      <th>0.6</th>\n      <th>...</th>\n      <th>0.40</th>\n      <th>0.41</th>\n      <th>0.42</th>\n      <th>0.43</th>\n      <th>0.778</th>\n      <th>0.44</th>\n      <th>0.45</th>\n      <th>3.756</th>\n      <th>61</th>\n      <th>278</th>\n    </tr>\n  </thead>\n  <tbody>\n    <tr>\n      <th>0</th>\n      <td>0.21</td>\n      <td>0.28</td>\n      <td>0.50</td>\n      <td>0.0</td>\n      <td>0.14</td>\n      <td>0.28</td>\n      <td>0.21</td>\n      <td>0.07</td>\n      <td>0.00</td>\n      <td>0.94</td>\n      <td>...</td>\n      <td>0.0</td>\n      <td>0.00</td>\n      <td>0.132</td>\n      <td>0.0</td>\n      <td>0.372</td>\n      <td>0.180</td>\n      <td>0.048</td>\n      <td>5.114</td>\n      <td>101</td>\n      <td>1028</td>\n    </tr>\n    <tr>\n      <th>1</th>\n      <td>0.06</td>\n      <td>0.00</td>\n      <td>0.71</td>\n      <td>0.0</td>\n      <td>1.23</td>\n      <td>0.19</td>\n      <td>0.19</td>\n      <td>0.12</td>\n      <td>0.64</td>\n      <td>0.25</td>\n      <td>...</td>\n      <td>0.0</td>\n      <td>0.01</td>\n      <td>0.143</td>\n      <td>0.0</td>\n      <td>0.276</td>\n      <td>0.184</td>\n      <td>0.010</td>\n      <td>9.821</td>\n      <td>485</td>\n      <td>2259</td>\n    </tr>\n    <tr>\n      <th>2</th>\n      <td>0.00</td>\n      <td>0.00</td>\n      <td>0.00</td>\n      <td>0.0</td>\n      <td>0.63</td>\n      <td>0.00</td>\n      <td>0.31</td>\n      <td>0.63</td>\n      <td>0.31</td>\n      <td>0.63</td>\n      <td>...</td>\n      <td>0.0</td>\n      <td>0.00</td>\n      <td>0.137</td>\n      <td>0.0</td>\n      <td>0.137</td>\n      <td>0.000</td>\n      <td>0.000</td>\n      <td>3.537</td>\n      <td>40</td>\n      <td>191</td>\n    </tr>\n    <tr>\n      <th>3</th>\n      <td>0.00</td>\n      <td>0.00</td>\n      <td>0.00</td>\n      <td>0.0</td>\n      <td>0.63</td>\n      <td>0.00</td>\n      <td>0.31</td>\n      <td>0.63</td>\n      <td>0.31</td>\n      <td>0.63</td>\n      <td>...</td>\n      <td>0.0</td>\n      <td>0.00</td>\n      <td>0.135</td>\n      <td>0.0</td>\n      <td>0.135</td>\n      <td>0.000</td>\n      <td>0.000</td>\n      <td>3.537</td>\n      <td>40</td>\n      <td>191</td>\n    </tr>\n    <tr>\n      <th>4</th>\n      <td>0.00</td>\n      <td>0.00</td>\n      <td>0.00</td>\n      <td>0.0</td>\n      <td>1.85</td>\n      <td>0.00</td>\n      <td>0.00</td>\n      <td>1.85</td>\n      <td>0.00</td>\n      <td>0.00</td>\n      <td>...</td>\n      <td>0.0</td>\n      <td>0.00</td>\n      <td>0.223</td>\n      <td>0.0</td>\n      <td>0.000</td>\n      <td>0.000</td>\n      <td>0.000</td>\n      <td>3.000</td>\n      <td>15</td>\n      <td>54</td>\n    </tr>\n  </tbody>\n</table>\n<p>5 rows × 57 columns</p>\n</div>"
     },
     "execution_count": 14,
     "metadata": {},
     "output_type": "execute_result"
    }
   ],
   "source": [
    "#separate index location for X (:-all rows)\n",
    "x=dataset.iloc[:,0:57]\n",
    "x.head()"
   ]
  },
  {
   "cell_type": "code",
   "execution_count": 15,
   "id": "78fc695d",
   "metadata": {},
   "outputs": [
    {
     "data": {
      "text/plain": "0    1\n1    1\n2    1\n3    1\n4    1\nName: 1, dtype: int64"
     },
     "execution_count": 15,
     "metadata": {},
     "output_type": "execute_result"
    }
   ],
   "source": [
    "#separate index location for Y (:-all rows)\n",
    "y=dataset.iloc[:,-1]\n",
    "y.head()"
   ]
  },
  {
   "cell_type": "code",
   "execution_count": 16,
   "id": "b0af7a8a",
   "metadata": {},
   "outputs": [],
   "source": [
    "#feature scaling\n",
    "from sklearn.preprocessing import StandardScaler\n",
    "scaler = StandardScaler()"
   ]
  },
  {
   "cell_type": "code",
   "execution_count": 17,
   "id": "cb0764b7",
   "metadata": {},
   "outputs": [
    {
     "data": {
      "text/plain": "array([[ 3.52030682e-01,  3.68723902e-01,  4.04525775e-01,\n        -4.66499100e-02, -2.69439563e-01,  6.64145010e-01,\n         2.32826054e-01, -9.26824327e-02, -3.25659622e-01,\n         1.05314009e+00,  8.32408230e-01,  2.54742619e-01,\n         1.78568086e+00,  4.29902786e-01,  3.93032219e-01,\n        -1.42706498e-01, -1.73030774e-01,  1.69184472e-01,\n         9.90346442e-01, -1.68088139e-01,  6.78640440e-01,\n        -1.22863174e-01,  9.37440590e-01,  7.85252199e-01,\n        -3.42455326e-01, -3.08540545e-01, -2.08371511e-01,\n        -2.40192753e-01, -1.70608095e-01, -2.36150798e-01,\n        -1.64122373e-01, -1.49386289e-01, -1.79843671e-01,\n        -1.51709366e-01, -2.03497956e-01, -2.57180362e-01,\n        -1.73182266e-01, -6.15733762e-02, -1.87676280e-01,\n        -1.91827641e-01, -1.30248924e-01, -1.78351105e-01,\n        -2.10391774e-01, -1.32002786e-01, -3.06146600e-01,\n        -2.04050036e-01, -7.31030494e-02, -1.16421100e-01,\n        -1.60029911e-01, -4.40567113e-02, -1.64384139e-01,\n         1.07890277e-01,  4.33554343e-01,  5.02723981e-03,\n        -8.15397006e-03,  2.44822531e-01,  1.19099523e+00],\n       [-1.47968353e-01, -2.47761873e-01,  8.11746731e-01,\n        -4.66499100e-02,  1.31531149e+00,  3.38089060e-01,\n         1.82483669e-01,  2.91858457e-02,  1.94271590e+00,\n         2.31569896e-03,  1.75549586e+00, -1.30521133e-01,\n         7.21655584e-02, -1.76920660e-01,  7.04084298e+00,\n        -2.43015725e-01, -1.94880900e-01,  1.55584703e+00,\n        -2.02581762e-01,  4.64846952e-01, -2.61021278e-01,\n        -1.22863174e-01,  3.01524173e+00, -7.17842979e-02,\n        -3.42455326e-01, -3.08540545e-01, -2.08371511e-01,\n        -2.40192753e-01, -1.70608095e-01, -2.36150798e-01,\n        -1.64122373e-01, -1.49386289e-01, -1.79843671e-01,\n        -1.51709366e-01, -2.03497956e-01, -2.57180362e-01,\n        -3.38081246e-01, -6.15733762e-02, -1.87676280e-01,\n        -4.04505142e-03, -1.30248924e-01, -1.78351105e-01,\n         3.07139406e-01, -1.32002786e-01, -2.48779890e-01,\n        -1.39415977e-01, -7.31030494e-02, -1.16421100e-01,\n        -1.20430982e-01, -3.94695461e-03, -1.64384139e-01,\n        -5.95003134e-03,  4.50241480e-01, -8.21439213e-02,\n         1.33848337e-01,  2.16884257e+00,  3.18079631e+00],\n       [-3.47967967e-01, -2.47761873e-01, -5.65047928e-01,\n        -4.66499100e-02,  4.42971463e-01, -3.50251280e-01,\n         4.84537977e-01,  1.27224229e+00,  7.73084770e-01,\n         5.81030578e-01,  1.37540095e+00, -2.89159149e-01,\n         6.86444629e-01, -1.76920660e-01, -1.85038282e-01,\n         7.04506090e-02, -3.25981652e-01, -3.48502882e-01,\n         8.26389485e-01, -1.68088139e-01, -4.35032708e-01,\n        -1.22863174e-01, -2.86469672e-01, -2.10763189e-01,\n        -3.42455326e-01, -3.08540545e-01, -2.08371511e-01,\n        -2.40192753e-01, -1.70608095e-01, -2.36150798e-01,\n        -1.64122373e-01, -1.49386289e-01, -1.79843671e-01,\n        -1.51709366e-01, -2.03497956e-01, -2.57180362e-01,\n        -3.38081246e-01, -6.15733762e-02, -1.87676280e-01,\n        -1.91827641e-01, -1.30248924e-01, -1.78351105e-01,\n        -2.10391774e-01, -1.32002786e-01, -3.06146600e-01,\n        -2.04050036e-01, -7.31030494e-02, -1.16421100e-01,\n        -1.60029911e-01, -2.58250037e-02, -1.64384139e-01,\n        -1.70781311e-01, -3.17366830e-01, -1.05083701e-01,\n        -5.57294190e-02, -6.08160685e-02, -1.61940195e-01],\n       [-3.47967967e-01, -2.47761873e-01, -5.65047928e-01,\n        -4.66499100e-02,  4.42971463e-01, -3.50251280e-01,\n         4.84537977e-01,  1.27224229e+00,  7.73084770e-01,\n         5.81030578e-01,  1.37540095e+00, -2.89159149e-01,\n         6.86444629e-01, -1.76920660e-01, -1.85038282e-01,\n         7.04506090e-02, -3.25981652e-01, -3.48502882e-01,\n         8.26389485e-01, -1.68088139e-01, -4.35032708e-01,\n        -1.22863174e-01, -2.86469672e-01, -2.10763189e-01,\n        -3.42455326e-01, -3.08540545e-01, -2.08371511e-01,\n        -2.40192753e-01, -1.70608095e-01, -2.36150798e-01,\n        -1.64122373e-01, -1.49386289e-01, -1.79843671e-01,\n        -1.51709366e-01, -2.03497956e-01, -2.57180362e-01,\n        -3.38081246e-01, -6.15733762e-02, -1.87676280e-01,\n        -1.91827641e-01, -1.30248924e-01, -1.78351105e-01,\n        -2.10391774e-01, -1.32002786e-01, -3.06146600e-01,\n        -2.04050036e-01, -7.31030494e-02, -1.16421100e-01,\n        -1.60029911e-01, -3.31176867e-02, -1.64384139e-01,\n        -1.73152984e-01, -3.17366830e-01, -1.05083701e-01,\n        -5.57294190e-02, -6.08160685e-02, -1.61940195e-01],\n       [-3.47967967e-01, -2.47761873e-01, -5.65047928e-01,\n        -4.66499100e-02,  2.21672953e+00, -3.50251280e-01,\n        -2.95768985e-01,  4.24582828e+00, -3.25659622e-01,\n        -3.78417774e-01, -3.07876486e-01, -6.40429040e-01,\n        -3.15800170e-01, -1.76920660e-01, -1.85038282e-01,\n        -3.18247645e-01, -3.25981652e-01, -3.48502882e-01,\n        -9.71483353e-01, -1.68088139e-01, -7.04750423e-01,\n        -1.22863174e-01, -2.86469672e-01, -2.10763189e-01,\n        -3.42455326e-01, -3.08540545e-01, -2.08371511e-01,\n        -2.40192753e-01, -1.70608095e-01, -2.36150798e-01,\n        -1.64122373e-01, -1.49386289e-01, -1.79843671e-01,\n        -1.51709366e-01, -2.03497956e-01, -2.57180362e-01,\n        -3.38081246e-01, -6.15733762e-02, -1.87676280e-01,\n        -1.91827641e-01, -1.30248924e-01, -1.78351105e-01,\n        -2.10391774e-01, -1.32002786e-01, -3.06146600e-01,\n        -2.04050036e-01, -7.31030494e-02, -1.16421100e-01,\n        -1.60029911e-01,  2.87760367e-01, -1.64384139e-01,\n        -3.33240917e-01, -3.17366830e-01, -1.05083701e-01,\n        -7.19298096e-02, -1.86077790e-01, -3.83388406e-01]])"
     },
     "execution_count": 17,
     "metadata": {},
     "output_type": "execute_result"
    }
   ],
   "source": [
    "x=scaler.fit_transform(x)\n",
    "x[0:5]"
   ]
  },
  {
   "cell_type": "code",
   "execution_count": 18,
   "id": "169268df",
   "metadata": {},
   "outputs": [
    {
     "name": "stdout",
     "output_type": "stream",
     "text": [
      "(4209, 58)\n"
     ]
    }
   ],
   "source": [
    "print(dataset.shape)"
   ]
  },
  {
   "cell_type": "code",
   "execution_count": 19,
   "id": "6c6b7faa",
   "metadata": {},
   "outputs": [
    {
     "data": {
      "text/plain": "      0  0.64  0.64.1  0.1  0.32   0.2   0.3   0.4   0.5   0.6  ...  0.40  \\\n0  0.21  0.28    0.50  0.0  0.14  0.28  0.21  0.07  0.00  0.94  ...   0.0   \n1  0.06  0.00    0.71  0.0  1.23  0.19  0.19  0.12  0.64  0.25  ...   0.0   \n2  0.00  0.00    0.00  0.0  0.63  0.00  0.31  0.63  0.31  0.63  ...   0.0   \n3  0.00  0.00    0.00  0.0  0.63  0.00  0.31  0.63  0.31  0.63  ...   0.0   \n4  0.00  0.00    0.00  0.0  1.85  0.00  0.00  1.85  0.00  0.00  ...   0.0   \n\n   0.41   0.42  0.43  0.778   0.44   0.45  3.756   61   278  \n0  0.00  0.132   0.0  0.372  0.180  0.048  5.114  101  1028  \n1  0.01  0.143   0.0  0.276  0.184  0.010  9.821  485  2259  \n2  0.00  0.137   0.0  0.137  0.000  0.000  3.537   40   191  \n3  0.00  0.135   0.0  0.135  0.000  0.000  3.537   40   191  \n4  0.00  0.223   0.0  0.000  0.000  0.000  3.000   15    54  \n\n[5 rows x 57 columns]",
      "text/html": "<div>\n<style scoped>\n    .dataframe tbody tr th:only-of-type {\n        vertical-align: middle;\n    }\n\n    .dataframe tbody tr th {\n        vertical-align: top;\n    }\n\n    .dataframe thead th {\n        text-align: right;\n    }\n</style>\n<table border=\"1\" class=\"dataframe\">\n  <thead>\n    <tr style=\"text-align: right;\">\n      <th></th>\n      <th>0</th>\n      <th>0.64</th>\n      <th>0.64.1</th>\n      <th>0.1</th>\n      <th>0.32</th>\n      <th>0.2</th>\n      <th>0.3</th>\n      <th>0.4</th>\n      <th>0.5</th>\n      <th>0.6</th>\n      <th>...</th>\n      <th>0.40</th>\n      <th>0.41</th>\n      <th>0.42</th>\n      <th>0.43</th>\n      <th>0.778</th>\n      <th>0.44</th>\n      <th>0.45</th>\n      <th>3.756</th>\n      <th>61</th>\n      <th>278</th>\n    </tr>\n  </thead>\n  <tbody>\n    <tr>\n      <th>0</th>\n      <td>0.21</td>\n      <td>0.28</td>\n      <td>0.50</td>\n      <td>0.0</td>\n      <td>0.14</td>\n      <td>0.28</td>\n      <td>0.21</td>\n      <td>0.07</td>\n      <td>0.00</td>\n      <td>0.94</td>\n      <td>...</td>\n      <td>0.0</td>\n      <td>0.00</td>\n      <td>0.132</td>\n      <td>0.0</td>\n      <td>0.372</td>\n      <td>0.180</td>\n      <td>0.048</td>\n      <td>5.114</td>\n      <td>101</td>\n      <td>1028</td>\n    </tr>\n    <tr>\n      <th>1</th>\n      <td>0.06</td>\n      <td>0.00</td>\n      <td>0.71</td>\n      <td>0.0</td>\n      <td>1.23</td>\n      <td>0.19</td>\n      <td>0.19</td>\n      <td>0.12</td>\n      <td>0.64</td>\n      <td>0.25</td>\n      <td>...</td>\n      <td>0.0</td>\n      <td>0.01</td>\n      <td>0.143</td>\n      <td>0.0</td>\n      <td>0.276</td>\n      <td>0.184</td>\n      <td>0.010</td>\n      <td>9.821</td>\n      <td>485</td>\n      <td>2259</td>\n    </tr>\n    <tr>\n      <th>2</th>\n      <td>0.00</td>\n      <td>0.00</td>\n      <td>0.00</td>\n      <td>0.0</td>\n      <td>0.63</td>\n      <td>0.00</td>\n      <td>0.31</td>\n      <td>0.63</td>\n      <td>0.31</td>\n      <td>0.63</td>\n      <td>...</td>\n      <td>0.0</td>\n      <td>0.00</td>\n      <td>0.137</td>\n      <td>0.0</td>\n      <td>0.137</td>\n      <td>0.000</td>\n      <td>0.000</td>\n      <td>3.537</td>\n      <td>40</td>\n      <td>191</td>\n    </tr>\n    <tr>\n      <th>3</th>\n      <td>0.00</td>\n      <td>0.00</td>\n      <td>0.00</td>\n      <td>0.0</td>\n      <td>0.63</td>\n      <td>0.00</td>\n      <td>0.31</td>\n      <td>0.63</td>\n      <td>0.31</td>\n      <td>0.63</td>\n      <td>...</td>\n      <td>0.0</td>\n      <td>0.00</td>\n      <td>0.135</td>\n      <td>0.0</td>\n      <td>0.135</td>\n      <td>0.000</td>\n      <td>0.000</td>\n      <td>3.537</td>\n      <td>40</td>\n      <td>191</td>\n    </tr>\n    <tr>\n      <th>4</th>\n      <td>0.00</td>\n      <td>0.00</td>\n      <td>0.00</td>\n      <td>0.0</td>\n      <td>1.85</td>\n      <td>0.00</td>\n      <td>0.00</td>\n      <td>1.85</td>\n      <td>0.00</td>\n      <td>0.00</td>\n      <td>...</td>\n      <td>0.0</td>\n      <td>0.00</td>\n      <td>0.223</td>\n      <td>0.0</td>\n      <td>0.000</td>\n      <td>0.000</td>\n      <td>0.000</td>\n      <td>3.000</td>\n      <td>15</td>\n      <td>54</td>\n    </tr>\n  </tbody>\n</table>\n<p>5 rows × 57 columns</p>\n</div>"
     },
     "execution_count": 19,
     "metadata": {},
     "output_type": "execute_result"
    }
   ],
   "source": [
    "#Index location for X\n",
    "X=dataset.iloc[:,0:57]\n",
    "X.head()"
   ]
  },
  {
   "cell_type": "code",
   "execution_count": 20,
   "id": "0a5b88f4",
   "metadata": {},
   "outputs": [
    {
     "data": {
      "text/plain": "0    1\n1    1\n2    1\n3    1\n4    1\nName: 1, dtype: int64"
     },
     "execution_count": 20,
     "metadata": {},
     "output_type": "execute_result"
    }
   ],
   "source": [
    "#Index location for Y\n",
    "Y=dataset.iloc[:,-1]\n",
    "Y.head()"
   ]
  },
  {
   "cell_type": "code",
   "execution_count": 21,
   "id": "821122e5",
   "metadata": {},
   "outputs": [],
   "source": [
    "#split into 2 parts for training and testing\n",
    "from sklearn.model_selection import train_test_split\n",
    "X_train,X_test,Y_train,Y_test=train_test_split(X,Y,test_size=0.2)"
   ]
  },
  {
   "cell_type": "code",
   "execution_count": 22,
   "id": "52479c8b",
   "metadata": {},
   "outputs": [
    {
     "data": {
      "text/plain": "(3367, 57)"
     },
     "execution_count": 22,
     "metadata": {},
     "output_type": "execute_result"
    }
   ],
   "source": [
    "X_train.shape"
   ]
  },
  {
   "cell_type": "code",
   "execution_count": 23,
   "id": "7a04554f",
   "metadata": {},
   "outputs": [
    {
     "data": {
      "text/plain": "(842, 57)"
     },
     "execution_count": 23,
     "metadata": {},
     "output_type": "execute_result"
    }
   ],
   "source": [
    "X_test.shape"
   ]
  },
  {
   "cell_type": "code",
   "execution_count": 24,
   "id": "e5d860e2",
   "metadata": {},
   "outputs": [
    {
     "data": {
      "text/plain": "DecisionTreeClassifier()"
     },
     "execution_count": 24,
     "metadata": {},
     "output_type": "execute_result"
    }
   ],
   "source": [
    "#train the model using Decision Tree algorithm\n",
    "\n",
    "from sklearn.tree import DecisionTreeClassifier\n",
    "Model = DecisionTreeClassifier()\n",
    "Model.fit(X_train,Y_train)"
   ]
  },
  {
   "cell_type": "code",
   "execution_count": 25,
   "id": "1e71bce4",
   "metadata": {},
   "outputs": [
    {
     "data": {
      "text/plain": "array([0, 0, 0, 0, 1], dtype=int64)"
     },
     "execution_count": 25,
     "metadata": {},
     "output_type": "execute_result"
    }
   ],
   "source": [
    "#Predicted values\n",
    "\n",
    "Pred = Model.predict(X_test)\n",
    "Pred[0:5]"
   ]
  },
  {
   "cell_type": "code",
   "execution_count": 26,
   "id": "bd09759e",
   "metadata": {},
   "outputs": [
    {
     "data": {
      "text/plain": "3344    0\n4461    0\n1947    0\n267     1\n1489    1\nName: 1, dtype: int64"
     },
     "execution_count": 26,
     "metadata": {},
     "output_type": "execute_result"
    }
   ],
   "source": [
    "#compare with dataset\n",
    "\n",
    "Y_test[0:5]"
   ]
  },
  {
   "cell_type": "code",
   "execution_count": 27,
   "id": "200a4a7a",
   "metadata": {},
   "outputs": [
    {
     "ename": "ModuleNotFoundError",
     "evalue": "No module named 'seabron'",
     "output_type": "error",
     "traceback": [
      "\u001B[1;31m---------------------------------------------------------------------------\u001B[0m",
      "\u001B[1;31mModuleNotFoundError\u001B[0m                       Traceback (most recent call last)",
      "\u001B[1;32m~\\AppData\\Local\\Temp\\ipykernel_17344\\1482213268.py\u001B[0m in \u001B[0;36m<module>\u001B[1;34m\u001B[0m\n\u001B[0;32m      1\u001B[0m \u001B[1;31m#accuracy score\u001B[0m\u001B[1;33m\u001B[0m\u001B[1;33m\u001B[0m\u001B[0m\n\u001B[0;32m      2\u001B[0m \u001B[1;32mfrom\u001B[0m \u001B[0msklearn\u001B[0m\u001B[1;33m.\u001B[0m\u001B[0mmetrics\u001B[0m \u001B[1;32mimport\u001B[0m \u001B[0maccuracy_score\u001B[0m\u001B[1;33m,\u001B[0m\u001B[0mconfusion_matrix\u001B[0m\u001B[1;33m\u001B[0m\u001B[1;33m\u001B[0m\u001B[0m\n\u001B[1;32m----> 3\u001B[1;33m \u001B[1;32mimport\u001B[0m \u001B[0mseabron\u001B[0m \u001B[1;32mas\u001B[0m \u001B[0msns\u001B[0m\u001B[1;33m\u001B[0m\u001B[1;33m\u001B[0m\u001B[0m\n\u001B[0m\u001B[0;32m      4\u001B[0m \u001B[0maccuracy_score\u001B[0m\u001B[1;33m(\u001B[0m\u001B[0mY_test\u001B[0m\u001B[1;33m,\u001B[0m\u001B[0mPred\u001B[0m\u001B[1;33m)\u001B[0m\u001B[1;33m\u001B[0m\u001B[1;33m\u001B[0m\u001B[0m\n\u001B[0;32m      5\u001B[0m \u001B[0mconfusionMatrix\u001B[0m \u001B[1;33m=\u001B[0m \u001B[0mconfusion_matrix\u001B[0m\u001B[1;33m(\u001B[0m\u001B[0mY_test\u001B[0m\u001B[1;33m,\u001B[0m\u001B[0mPred\u001B[0m\u001B[1;33m)\u001B[0m\u001B[1;33m\u001B[0m\u001B[1;33m\u001B[0m\u001B[0m\n",
      "\u001B[1;31mModuleNotFoundError\u001B[0m: No module named 'seabron'"
     ]
    }
   ],
   "source": [
    "#accuracy score\n",
    "from sklearn.metrics import accuracy_score,confusion_matrix\n",
    "import seabron as sns\n",
    "accuracy_score(Y_test,Pred)\n",
    "confusionMatrix = confusion_matrix(Y_test,Pred)\n"
   ]
  },
  {
   "cell_type": "code",
   "execution_count": null,
   "id": "2243a95e",
   "metadata": {},
   "outputs": [],
   "source": []
  }
 ],
 "metadata": {
  "kernelspec": {
   "display_name": "Python 3 (ipykernel)",
   "language": "python",
   "name": "python3"
  },
  "language_info": {
   "codemirror_mode": {
    "name": "ipython",
    "version": 3
   },
   "file_extension": ".py",
   "mimetype": "text/x-python",
   "name": "python",
   "nbconvert_exporter": "python",
   "pygments_lexer": "ipython3",
   "version": "3.9.13"
  }
 },
 "nbformat": 4,
 "nbformat_minor": 5
}
